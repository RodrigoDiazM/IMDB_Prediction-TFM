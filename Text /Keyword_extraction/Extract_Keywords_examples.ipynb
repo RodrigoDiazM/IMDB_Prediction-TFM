{
 "cells": [
  {
   "cell_type": "markdown",
   "metadata": {},
   "source": [
    "# rake nltk"
   ]
  },
  {
   "cell_type": "code",
   "execution_count": 1,
   "metadata": {},
   "outputs": [
    {
     "name": "stdout",
     "output_type": "stream",
     "text": [
      "Requirement already satisfied: rake-nltk in /anaconda3/lib/python3.7/site-packages (1.0.4)\n",
      "Requirement already satisfied: nltk in /anaconda3/lib/python3.7/site-packages (from rake-nltk) (3.4.4)\n",
      "Requirement already satisfied: six in /anaconda3/lib/python3.7/site-packages (from nltk->rake-nltk) (1.14.0)\n",
      "\u001b[33mWARNING: You are using pip version 20.1.1; however, version 20.2.2 is available.\n",
      "You should consider upgrading via the '//anaconda3/bin/python -m pip install --upgrade pip' command.\u001b[0m\n"
     ]
    }
   ],
   "source": [
    "!pip install rake-nltk"
   ]
  },
  {
   "cell_type": "code",
   "execution_count": 41,
   "metadata": {},
   "outputs": [],
   "source": [
    "from rake_nltk import Rake"
   ]
  },
  {
   "cell_type": "code",
   "execution_count": 42,
   "metadata": {},
   "outputs": [
    {
     "data": {
      "text/plain": [
       "['society',\n",
       " 'revolution',\n",
       " 'mistreated',\n",
       " 'joker',\n",
       " 'face',\n",
       " 'embarks',\n",
       " 'ego',\n",
       " 'disregarded',\n",
       " 'alter']"
      ]
     },
     "execution_count": 42,
     "metadata": {},
     "output_type": "execute_result"
    }
   ],
   "source": [
    "r = Rake(min_length=1, max_length=1) # Uses stopwords for english from NLTK, and all puntuation characters.\n",
    "\n",
    "texto = \"This TFM consists of the implementation of Artificial Intelligence techniques to predict the Rating that a movie will obtain on the IMDB portal based on a series of variables. In the following paragraphs, a review of the state of the art of popular science articles published in the field of application of AI techniques to the IMDB portal will be made.\"\n",
    "texto2 = \"Peaceful farmer Benjamin Martin is driven to lead the Colonial Militia during the American Revolution when a sadistic British officer murders his son.\"\n",
    "texto3 = \"In Gotham City, mentally troubled comedian Arthur Fleck is disregarded and mistreated by society. He then embarks on a downward spiral of revolution and bloody crime. This path brings him face-to-face with his alter-ego: the Joker.\"\n",
    "r.extract_keywords_from_text(texto3)\n",
    "\n",
    "r.get_ranked_phrases() # To get keyword phrases ranked highest to lowest."
   ]
  },
  {
   "cell_type": "markdown",
   "metadata": {},
   "source": [
    "# https://github.com/LIAAD/yake"
   ]
  },
  {
   "cell_type": "code",
   "execution_count": 14,
   "metadata": {},
   "outputs": [
    {
     "name": "stdout",
     "output_type": "stream",
     "text": [
      "Collecting git+https://github.com/LIAAD/yake\n",
      "  Cloning https://github.com/LIAAD/yake to /private/var/folders/03/s3hkyjgn79xfjkrv3llgkc6c0000gn/T/pip-req-build-jyoi2dor\n",
      "  Running command git clone -q https://github.com/LIAAD/yake /private/var/folders/03/s3hkyjgn79xfjkrv3llgkc6c0000gn/T/pip-req-build-jyoi2dor\n",
      "Collecting tabulate\n",
      "  Downloading tabulate-0.8.7-py3-none-any.whl (24 kB)\n",
      "Requirement already satisfied: click>=6.0 in /anaconda3/lib/python3.7/site-packages (from yake==0.4.3) (7.0)\n",
      "Requirement already satisfied: numpy in /anaconda3/lib/python3.7/site-packages (from yake==0.4.3) (1.18.1)\n",
      "Collecting segtok\n",
      "  Downloading segtok-1.5.10.tar.gz (25 kB)\n",
      "Requirement already satisfied: networkx in /anaconda3/lib/python3.7/site-packages (from yake==0.4.3) (2.3)\n",
      "Collecting jellyfish\n",
      "  Downloading jellyfish-0.8.2.tar.gz (134 kB)\n",
      "\u001b[K     |████████████████████████████████| 134 kB 1.2 MB/s eta 0:00:01\n",
      "\u001b[?25hRequirement already satisfied: regex in /anaconda3/lib/python3.7/site-packages (from segtok->yake==0.4.3) (2020.6.8)\n",
      "Requirement already satisfied: decorator>=4.3.0 in /anaconda3/lib/python3.7/site-packages (from networkx->yake==0.4.3) (4.4.0)\n",
      "Building wheels for collected packages: yake, segtok, jellyfish\n",
      "  Building wheel for yake (setup.py) ... \u001b[?25ldone\n",
      "\u001b[?25h  Created wheel for yake: filename=yake-0.4.3-py2.py3-none-any.whl size=67216 sha256=b36dbe6721680548d687d8bbb7c148aca49ab32d6f4eb7b8ae5688e9b55913c4\n",
      "  Stored in directory: /private/var/folders/03/s3hkyjgn79xfjkrv3llgkc6c0000gn/T/pip-ephem-wheel-cache-g4jqvg50/wheels/52/79/f4/dae9309f60266aa3767a4381405002b6f2955fbcf038d804da\n",
      "  Building wheel for segtok (setup.py) ... \u001b[?25ldone\n",
      "\u001b[?25h  Created wheel for segtok: filename=segtok-1.5.10-py3-none-any.whl size=25019 sha256=860b1313a3799ce1f2047205c205d86870ddc912ded0bc854d0c1e8044176b2f\n",
      "  Stored in directory: /Users/juanserrano/Library/Caches/pip/wheels/67/b7/d0/a121106e61339eee5ed083bc230b1c8dc422c49a5a28c2addd\n",
      "  Building wheel for jellyfish (setup.py) ... \u001b[?25ldone\n",
      "\u001b[?25h  Created wheel for jellyfish: filename=jellyfish-0.8.2-cp37-cp37m-macosx_10_7_x86_64.whl size=24282 sha256=97a7817210ff44b3d1a95b18617da7913892a1cbbea3b50ba291147dd45729a4\n",
      "  Stored in directory: /Users/juanserrano/Library/Caches/pip/wheels/12/9e/c1/46af1db49a60a4adf555196c0ead132e4a36a2bd69b078e740\n",
      "Successfully built yake segtok jellyfish\n",
      "Installing collected packages: tabulate, segtok, jellyfish, yake\n",
      "Successfully installed jellyfish-0.8.2 segtok-1.5.10 tabulate-0.8.7 yake-0.4.3\n",
      "\u001b[33mWARNING: You are using pip version 20.1.1; however, version 20.2.2 is available.\n",
      "You should consider upgrading via the '//anaconda3/bin/python -m pip install --upgrade pip' command.\u001b[0m\n"
     ]
    }
   ],
   "source": [
    "!pip install git+https://github.com/LIAAD/yake"
   ]
  },
  {
   "cell_type": "code",
   "execution_count": 20,
   "metadata": {},
   "outputs": [],
   "source": [
    "import yake"
   ]
  },
  {
   "cell_type": "markdown",
   "metadata": {},
   "source": [
    "#### The lower the score, the more relevant the keyword is."
   ]
  },
  {
   "cell_type": "code",
   "execution_count": 32,
   "metadata": {},
   "outputs": [
    {
     "name": "stdout",
     "output_type": "stream",
     "text": [
      "('comedian arthur fleck', 0.0023832496058986625)\n",
      "('troubled comedian arthur', 0.005356728248694929)\n",
      "('gotham city', 0.007097648590154819)\n",
      "('mentally troubled comedian', 0.0073324509242396925)\n",
      "('arthur fleck', 0.010391317237038638)\n",
      "('comedian arthur', 0.022825776323124266)\n",
      "('fleck is disregarded', 0.022825776323124266)\n",
      "('mentally troubled', 0.03107735477427921)\n",
      "('mistreated by society', 0.03107735477427921)\n",
      "('troubled comedian', 0.050888965170882816)\n",
      "('disregarded and mistreated', 0.050888965170882816)\n",
      "('city', 0.06949481646017519)\n",
      "('gotham', 0.10141226884569679)\n",
      "('arthur', 0.10141226884569679)\n",
      "('fleck', 0.10141226884569679)\n",
      "('mentally', 0.13696809108329627)\n",
      "('society', 0.13696809108329627)\n",
      "('bloody crime', 0.21339268578732606)\n",
      "('troubled', 0.2200560909321288)\n",
      "('comedian', 0.2200560909321288)\n"
     ]
    }
   ],
   "source": [
    "kw_extractor = yake.KeywordExtractor()\n",
    "keywords = kw_extractor.extract_keywords(texto3)\n",
    "\n",
    "for kw in keywords:\n",
    "    print(kw)"
   ]
  },
  {
   "cell_type": "markdown",
   "metadata": {},
   "source": [
    "### CON PARÁMETROS SELECCIONADOS A MANO"
   ]
  },
  {
   "cell_type": "code",
   "execution_count": 40,
   "metadata": {},
   "outputs": [
    {
     "name": "stdout",
     "output_type": "stream",
     "text": [
      "('city', 0.06949481646017519)\n",
      "('gotham', 0.10141226884569679)\n",
      "('arthur', 0.10141226884569679)\n",
      "('fleck', 0.10141226884569679)\n",
      "('mentally', 0.13696809108329627)\n",
      "('society', 0.13696809108329627)\n",
      "('troubled', 0.2200560909321288)\n",
      "('comedian', 0.2200560909321288)\n",
      "('disregarded', 0.2200560909321288)\n",
      "('mistreated', 0.2200560909321288)\n",
      "('joker', 0.2742624966594226)\n",
      "('crime', 0.3553358554145339)\n",
      "('alter-ego', 0.44538603402402266)\n",
      "('embarks', 0.4949246952252326)\n",
      "('downward', 0.4949246952252326)\n",
      "('spiral', 0.4949246952252326)\n",
      "('revolution', 0.4949246952252326)\n",
      "('bloody', 0.4949246952252326)\n",
      "('path', 0.5880798524606783)\n",
      "('brings', 0.5880798524606783)\n"
     ]
    }
   ],
   "source": [
    "language = \"en\"\n",
    "max_ngram_size = 1\n",
    "deduplication_thresold = 0.9\n",
    "deduplication_algo = 'seqm'\n",
    "windowSize = 1\n",
    "numOfKeywords = 20\n",
    "\n",
    "custom_kw_extractor = yake.KeywordExtractor(lan=language, n=max_ngram_size, dedupLim=deduplication_thresold, dedupFunc=deduplication_algo, windowsSize=windowSize, top=numOfKeywords, features=None)\n",
    "keywords = custom_kw_extractor.extract_keywords(texto3)\n",
    "\n",
    "for kw in keywords:\n",
    "    print(kw)"
   ]
  },
  {
   "cell_type": "code",
   "execution_count": null,
   "metadata": {},
   "outputs": [],
   "source": []
  },
  {
   "cell_type": "code",
   "execution_count": null,
   "metadata": {},
   "outputs": [],
   "source": []
  }
 ],
 "metadata": {
  "kernelspec": {
   "display_name": "Python 3",
   "language": "python",
   "name": "python3"
  },
  "language_info": {
   "codemirror_mode": {
    "name": "ipython",
    "version": 3
   },
   "file_extension": ".py",
   "mimetype": "text/x-python",
   "name": "python",
   "nbconvert_exporter": "python",
   "pygments_lexer": "ipython3",
   "version": "3.7.3"
  }
 },
 "nbformat": 4,
 "nbformat_minor": 2
}
